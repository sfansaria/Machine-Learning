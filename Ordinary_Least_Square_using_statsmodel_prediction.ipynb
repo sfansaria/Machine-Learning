{
  "nbformat": 4,
  "nbformat_minor": 0,
  "metadata": {
    "colab": {
      "provenance": [],
      "authorship_tag": "ABX9TyNBHbWHFWQri6OtQSUJaI8P",
      "include_colab_link": true
    },
    "kernelspec": {
      "name": "python3",
      "display_name": "Python 3"
    },
    "language_info": {
      "name": "python"
    }
  },
  "cells": [
    {
      "cell_type": "markdown",
      "metadata": {
        "id": "view-in-github",
        "colab_type": "text"
      },
      "source": [
        "<a href=\"https://colab.research.google.com/github/sfansaria/Machine-Learning/blob/main/Ordinary_Least_Square_using_statsmodel_prediction.ipynb\" target=\"_parent\"><img src=\"https://colab.research.google.com/assets/colab-badge.svg\" alt=\"Open In Colab\"/></a>"
      ]
    },
    {
      "cell_type": "code",
      "source": [
        "from google.colab import drive\n",
        "drive.mount('/content/drive')"
      ],
      "metadata": {
        "colab": {
          "base_uri": "https://localhost:8080/"
        },
        "id": "QVEJYfiLtirZ",
        "outputId": "0d30e0c0-5c57-4732-ef93-8d4cc16d1990"
      },
      "execution_count": 68,
      "outputs": [
        {
          "output_type": "stream",
          "name": "stdout",
          "text": [
            "Drive already mounted at /content/drive; to attempt to forcibly remount, call drive.mount(\"/content/drive\", force_remount=True).\n"
          ]
        }
      ]
    },
    {
      "cell_type": "code",
      "execution_count": 69,
      "metadata": {
        "colab": {
          "base_uri": "https://localhost:8080/"
        },
        "id": "a_c9VB6mp_rN",
        "outputId": "69479822-52a3-4d83-afcf-7407b81ea404"
      },
      "outputs": [
        {
          "output_type": "stream",
          "name": "stdout",
          "text": [
            "Requirement already satisfied: statsmodels in /usr/local/lib/python3.10/dist-packages (0.14.0)\n",
            "Requirement already satisfied: numpy>=1.18 in /usr/local/lib/python3.10/dist-packages (from statsmodels) (1.23.5)\n",
            "Requirement already satisfied: scipy!=1.9.2,>=1.4 in /usr/local/lib/python3.10/dist-packages (from statsmodels) (1.10.1)\n",
            "Requirement already satisfied: pandas>=1.0 in /usr/local/lib/python3.10/dist-packages (from statsmodels) (1.5.3)\n",
            "Requirement already satisfied: patsy>=0.5.2 in /usr/local/lib/python3.10/dist-packages (from statsmodels) (0.5.3)\n",
            "Requirement already satisfied: packaging>=21.3 in /usr/local/lib/python3.10/dist-packages (from statsmodels) (23.1)\n",
            "Requirement already satisfied: python-dateutil>=2.8.1 in /usr/local/lib/python3.10/dist-packages (from pandas>=1.0->statsmodels) (2.8.2)\n",
            "Requirement already satisfied: pytz>=2020.1 in /usr/local/lib/python3.10/dist-packages (from pandas>=1.0->statsmodels) (2023.3.post1)\n",
            "Requirement already satisfied: six in /usr/local/lib/python3.10/dist-packages (from patsy>=0.5.2->statsmodels) (1.16.0)\n"
          ]
        }
      ],
      "source": [
        "pip install statsmodels"
      ]
    },
    {
      "cell_type": "code",
      "source": [
        "#Import libraries\n",
        "'''\n",
        "import statsmodels.api as sm\n",
        "import pandas as pd\n",
        "import numpy as np\n",
        "import matplotlib.pyplot as plt\n",
        "#read the data\n",
        "\n",
        "data = pd.read_csv('/content/drive/My Drive/ml_datasets/train_ols.csv')\n",
        "\n",
        "data.head()\n",
        "'''\n"
      ],
      "metadata": {
        "colab": {
          "base_uri": "https://localhost:8080/",
          "height": 53
        },
        "id": "6P8hsZ0arATS",
        "outputId": "313e7fdd-cf70-4209-87da-87a71f1911d0"
      },
      "execution_count": 70,
      "outputs": [
        {
          "output_type": "execute_result",
          "data": {
            "text/plain": [
              "\"\\nimport statsmodels.api as sm\\nimport pandas as pd\\nimport numpy as np\\nimport matplotlib.pyplot as plt\\n#read the data\\n\\ndata = pd.read_csv('/content/drive/My Drive/ml_datasets/train_ols.csv')\\n\\ndata.head()\\n\""
            ],
            "application/vnd.google.colaboratory.intrinsic+json": {
              "type": "string"
            }
          },
          "metadata": {},
          "execution_count": 70
        }
      ]
    },
    {
      "cell_type": "code",
      "source": [
        "#define the variables\n",
        "'''\n",
        "x = data['x'].tolist()\n",
        "print(x)\n",
        "y = data['y'].tolist()\n",
        "print(y)\n",
        "'''"
      ],
      "metadata": {
        "colab": {
          "base_uri": "https://localhost:8080/",
          "height": 35
        },
        "id": "uN8Po9IJt76z",
        "outputId": "f2cedb52-cc54-4518-e00c-756afdb82fe6"
      },
      "execution_count": 71,
      "outputs": [
        {
          "output_type": "execute_result",
          "data": {
            "text/plain": [
              "\"\\nx = data['x'].tolist()\\nprint(x)\\ny = data['y'].tolist()\\nprint(y)\\n\""
            ],
            "application/vnd.google.colaboratory.intrinsic+json": {
              "type": "string"
            }
          },
          "metadata": {},
          "execution_count": 71
        }
      ]
    },
    {
      "cell_type": "code",
      "source": [
        "#adding the constant term\n",
        "#x = sm.add_constant(x)\n",
        "#print(x)"
      ],
      "metadata": {
        "id": "kDqpFKVYucxJ"
      },
      "execution_count": 72,
      "outputs": []
    },
    {
      "cell_type": "code",
      "source": [
        "#Perform the regression and fitting the model\n",
        "\n",
        "#result = sm.OLS(y, x).fit()\n",
        "\n",
        "\n",
        "#print the summary table\n",
        "#print(result.summary())\n"
      ],
      "metadata": {
        "id": "r-O452MSurxO"
      },
      "execution_count": 73,
      "outputs": []
    },
    {
      "cell_type": "code",
      "source": [
        "#Prediction of the model\n",
        "\n",
        "import pandas as pd\n",
        "import matplotlib.pyplot as plt\n",
        "import numpy as np\n",
        "\n",
        "# reading data from the csv\n",
        "data = pd.read_csv('/content/drive/My Drive/ml_datasets/train_ols.csv')\n",
        "#data = pd.read_csv('train.csv')\n",
        "\n",
        "# plotting the original values\n",
        "x = data['x'].tolist()\n",
        "y = data['y'].tolist()\n",
        "plt.scatter(x, y)\n",
        "\n",
        "# finding the maximum and minimum\n",
        "# values of x, to get the\n",
        "# range of data\n",
        "max_x = data['x'].max()\n",
        "min_x = data['x'].min()\n",
        "\n",
        "# range of values for plotting\n",
        "# the regression line\n",
        "x = np.arange(min_x, max_x, 1)\n",
        "\n",
        "# the substituted equation\n",
        "y = 1.0143 * x - 0.4618\n",
        "\n",
        "# plotting the regression line\n",
        "plt.plot(y, 'r')\n",
        "plt.show()\n"
      ],
      "metadata": {
        "colab": {
          "base_uri": "https://localhost:8080/",
          "height": 430
        },
        "id": "b84iZdopySgS",
        "outputId": "7251d2bd-9355-4c32-9c2f-887267578223"
      },
      "execution_count": 74,
      "outputs": [
        {
          "output_type": "display_data",
          "data": {
            "text/plain": [
              "<Figure size 640x480 with 1 Axes>"
            ],
            "image/png": "[encoded data removed]"
          },
          "metadata": {}
        }
      ]
    }
  ]
}